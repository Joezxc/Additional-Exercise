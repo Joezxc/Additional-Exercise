{
  "cells": [
    {
      "cell_type": "markdown",
      "metadata": {
        "id": "view-in-github",
        "colab_type": "text"
      },
      "source": [
        "<a href=\"https://colab.research.google.com/github/Joezxc/Additional-Exercise/blob/main/Oct_13.ipynb\" target=\"_parent\"><img src=\"https://colab.research.google.com/assets/colab-badge.svg\" alt=\"Open In Colab\"/></a>"
      ]
    },
    {
      "cell_type": "code",
      "execution_count": null,
      "metadata": {
        "colab": {
          "background_save": true,
          "base_uri": "https://localhost:8080/"
        },
        "id": "0pUbC9omzSrZ",
        "outputId": "17d6099f-3dfc-445f-b748-c1a6abe08f95"
      },
      "outputs": [
        {
          "name": "stdout",
          "output_type": "stream",
          "text": [
            "Enter 2 numbers:\n"
          ]
        }
      ],
      "source": [
        "#get 2 numbers from the user\n",
        "print('Enter 2 numbers:')\n",
        "a=int(input())\n",
        "b=int(input())\n",
        "\n",
        "# calculate and print\n",
        "print('the addition of '+str(a)+' and'+str(b)+' is '+str(a+b))\n",
        "print('the multiplication of '+str(a)+' and '+str(b)+' is '+str(a*b))\n",
        "print('the division of '+str(a)+' and'+str(b)+' is '+str(a/b))\n",
        "print('the modulus of '+str(a)+' and'+str(b)+' is '+str(a%b))\n",
        "print('the power of '+str(a)+'and'+str(b)+' is '+str(a**b))"
      ]
    },
    {
      "cell_type": "code",
      "execution_count": null,
      "metadata": {
        "id": "OsH9MpJI7Nyt"
      },
      "outputs": [],
      "source": [
        "t = 5\n",
        "u = 7\n",
        "print('t and u is',t and u)\n",
        "print('t and u is',t or u)\n",
        "print('t and u is',t not u)"
      ]
    },
    {
      "cell_type": "code",
      "execution_count": null,
      "metadata": {
        "id": "NDGINLpc-7mc"
      },
      "outputs": [],
      "source": [
        "x1 = 6 \n",
        "y1 = 6\n",
        "x2 = 'Hola'\n",
        "y2 = 'Hola'\n",
        "x3 = [1,2,3]\n",
        "y3 =  [1,2,3]\n",
        "# Output: False\n",
        "print(x1 is not y1)\n",
        "# Output: True\n",
        "print(x2 is y2)\n",
        "# Output: False\n",
        "print(x3 is y3)"
      ]
    },
    {
      "cell_type": "code",
      "execution_count": null,
      "metadata": {
        "id": "4PF3GMqmAfUV"
      },
      "outputs": [],
      "source": [
        "age = 20\n",
        "if age >=  19\n",
        " print('You are old enough to vote' )"
      ]
    },
    {
      "cell_type": "code",
      "execution_count": null,
      "metadata": {
        "id": "EfgsdRosBn-H"
      },
      "outputs": [],
      "source": [
        "age = 19\n",
        " if: age >=20\n",
        " print(\"You are old enough to vote\")\n",
        " else:\n",
        "   #Executes if false\n",
        "   print(\"Sorry, you are too young to vote\")"
      ]
    },
    {
      "cell_type": "code",
      "execution_count": null,
      "metadata": {
        "id": "thfc8kUnEa3X"
      },
      "outputs": [],
      "source": [
        "from re import X\n",
        "from re import X\n",
        "#Declares two numbers in two variables\n",
        "x, y = 20, 30\n",
        "# Copy value of a in min if a < b else copy b\n",
        "min=x\n",
        "if x<y\n",
        " min=x"
      ]
    },
    {
      "cell_type": "code",
      "execution_count": null,
      "metadata": {
        "id": "35EhoBj_Fq5P"
      },
      "outputs": [],
      "source": [
        "print('Enter your age')\n",
        "age= int(input())\n",
        "\n",
        "if age < 6:\n",
        "  print(\"Your admission cost is $0\")\n",
        "elif age < 20:\n",
        "  print(\"Your admission cost is $25\")\n",
        "else:\n",
        "  print(\"Your admission cost is $40\")  \n"
      ]
    },
    {
      "cell_type": "code",
      "execution_count": null,
      "metadata": {
        "id": "-uSs4zXdHGE7"
      },
      "outputs": [],
      "source": [
        "# Declare two variables named a and b and\n",
        "x = 27\n",
        "y = 30\n",
        "list = [10, 20, 30, 40, 50]\n",
        "if (a not in list):\n",
        "  print('a is NOT present in given list\")\n",
        "  # 27 is not in the sequence so it print\n",
        "else: \n",
        "  print('a is in list')\n",
        "\n",
        "  if(b in list)\n",
        "    print(b is present in given list)\n",
        "      # 30 is not in the sequence so it print\n",
        "else:\n",
        "  print('b is not in list')      "
      ]
    },
    {
      "cell_type": "code",
      "execution_count": null,
      "metadata": {
        "id": "rV_p36odPQcM"
      },
      "outputs": [],
      "source": [
        "a = Giannis\n",
        "b = LeBron\n",
        "list = [Giannis, Luka, Joel, Jokic\n",
        "        if (a is not in list)\n",
        "        "
      ]
    },
    {
      "cell_type": "code",
      "execution_count": null,
      "metadata": {
        "id": "p-NbrVcMPnaw"
      },
      "outputs": [],
      "source": [
        "names = ['Giannis' , 'Luka' , 'Stephen']\n",
        "print(\"My favorite star,\" + names [0].title() + \"!\")\n",
        "print(\"My favorite star,\" + names [1].title() + \"!\")\n",
        "print(\"My favorite star,\" + names [2].title() + \"!\")"
      ]
    },
    {
      "cell_type": "code",
      "execution_count": null,
      "metadata": {
        "id": "H4At5In0Q5Fw"
      },
      "outputs": [],
      "source": [
        "names = ['Toyota' , 'Mercedes' , 'Mitsubishi' , '']"
      ]
    },
    {
      "cell_type": "code",
      "execution_count": null,
      "metadata": {
        "id": "Z-JOv-JdT_Dd"
      },
      "outputs": [],
      "source": []
    }
  ],
  "metadata": {
    "colab": {
      "collapsed_sections": [],
      "provenance": [],
      "authorship_tag": "ABX9TyMtYu6PaEtl+C2t4N4SoNii",
      "include_colab_link": true
    },
    "kernelspec": {
      "display_name": "Python 3",
      "name": "python3"
    },
    "language_info": {
      "name": "python"
    }
  },
  "nbformat": 4,
  "nbformat_minor": 0
}