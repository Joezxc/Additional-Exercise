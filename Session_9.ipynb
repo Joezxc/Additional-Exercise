{
  "nbformat": 4,
  "nbformat_minor": 0,
  "metadata": {
    "colab": {
      "provenance": [],
      "authorship_tag": "ABX9TyOPvTqMz+KO4Il6I1VNzjXQ",
      "include_colab_link": true
    },
    "kernelspec": {
      "name": "python3",
      "display_name": "Python 3"
    },
    "language_info": {
      "name": "python"
    }
  },
  "cells": [
    {
      "cell_type": "markdown",
      "metadata": {
        "id": "view-in-github",
        "colab_type": "text"
      },
      "source": [
        "<a href=\"https://colab.research.google.com/github/Joezxc/Additional-Exercise/blob/main/Session_9.ipynb\" target=\"_parent\"><img src=\"https://colab.research.google.com/assets/colab-badge.svg\" alt=\"Open In Colab\"/></a>"
      ]
    },
    {
      "cell_type": "code",
      "execution_count": 3,
      "metadata": {
        "colab": {
          "base_uri": "https://localhost:8080/"
        },
        "id": "uZ0n3ySsMxm3",
        "outputId": "1b9c8274-d894-4c9b-9b67-df7b0548fee5"
      },
      "outputs": [
        {
          "output_type": "stream",
          "name": "stdout",
          "text": [
            "\n",
            "The size of the shirt is 20 and message to be printed is PRACTICE MAKES PERFECT\n"
          ]
        }
      ],
      "source": [
        "#Function definition with two parameters\n",
        "def make_shirt(size,message):\n",
        "\n",
        "  print(f\"\\nThe size of the shirt is {size} and message to be printed is {message.upper()}\")\n",
        "make_shirt(20, 'practice makes perfect')"
      ]
    },
    {
      "cell_type": "code",
      "source": [
        "#Function definition with a default value\n",
        "def make_shirt(size='Medium',message='Programming Fundamentals'):\n",
        "  print(f\"\\n The size of the shirt is {size} and message to be printed {message.upper()}\")\n",
        "  make_shirt()\n",
        "  make_shirt(size='Small & Medium')\n",
        "  make_shirt(size='XS',message='do not panic, it is organic'.upper())"
      ],
      "metadata": {
        "id": "DsFMq2dfNd6d"
      },
      "execution_count": 5,
      "outputs": []
    },
    {
      "cell_type": "code",
      "source": [
        "#Function to describe a city\n",
        "def describe_city(city, country='Italy'):\n",
        "  print(f'\\n{city.title()} is in {country.title()}')\n",
        "\n",
        "describe_city('rome')\n",
        "describe_city('milan', 'madrid') \n",
        "describe_city('naples')"
      ],
      "metadata": {
        "colab": {
          "base_uri": "https://localhost:8080/"
        },
        "id": "zcskFfSYOdWM",
        "outputId": "77a92c21-cae0-4537-a173-f5b497973a41"
      },
      "execution_count": 8,
      "outputs": [
        {
          "output_type": "stream",
          "name": "stdout",
          "text": [
            "\n",
            "Rome is in Italy\n",
            "\n",
            "Milan is in Madrid\n",
            "\n",
            "Naples is in Italy\n"
          ]
        }
      ]
    },
    {
      "cell_type": "code",
      "source": [
        "def sum(a=10, b=5):\n",
        "  return a+b\n",
        "\n",
        "result = sum(15)\n",
        "print(\"The sum of 15 and 5 is : \", result)\n",
        "\n",
        "result = sum(2,3)\n",
        "print(\"The sum of 2 and 3 is : \", result)\n",
        "\n",
        "print(\"the sum of default values is :\", sum())\n"
      ],
      "metadata": {
        "colab": {
          "base_uri": "https://localhost:8080/"
        },
        "id": "DtUOEb65PV1F",
        "outputId": "31b12dcb-69b9-4f65-b582-901411e2c4b1"
      },
      "execution_count": 9,
      "outputs": [
        {
          "output_type": "stream",
          "name": "stdout",
          "text": [
            "The sum of 15 and 5 is :  20\n",
            "The sum of 2 and 3 is :  5\n",
            "the sum of default values is : 15\n"
          ]
        }
      ]
    },
    {
      "cell_type": "code",
      "source": [
        "tuple1=('Ferrari','Mercedes','Mustang')\n",
        "tuple2=('Kia','Honda','Yamaha')\n",
        "\n",
        "print('The 1st element of tuple1 is ',tuple1[0])\n",
        "print('The 2nd element of tuple1 is ',tuple1[1])\n",
        "print('The 3rd element of tuple1 is ',tuple1[2])\n",
        "print('The 1st element of tuple2 is ',tuple1[0])\n",
        "print('The 2nd element of tuple2 is ',tuple1[1])\n",
        "print('The 3rd element of tuple2 is ',tuple1[2])\n",
        "\n",
        "print('The elements of tuple1 is ',tuple1[0:3])\n",
        "print('The elements of tuple2 is ',tuple2[0:3])\n",
        "\n",
        "print('tuple1 elements are: ')\n",
        "for i in tuple1:\n",
        "  print(i, end='')\n",
        "\n",
        "print('tuple2 elements are: ')\n",
        "for i in tuple2:\n",
        "  print(i, end='')"
      ],
      "metadata": {
        "colab": {
          "base_uri": "https://localhost:8080/"
        },
        "id": "7sr9sOHeQZEF",
        "outputId": "470dfd0f-a070-40f0-eef4-305945a47ef7"
      },
      "execution_count": 10,
      "outputs": [
        {
          "output_type": "stream",
          "name": "stdout",
          "text": [
            "The 1st element of tuple1 is  Ferrari\n",
            "The 2nd element of tuple1 is  Mercedes\n",
            "The 3rd element of tuple1 is  Mustang\n",
            "The 1st element of tuple2 is  Ferrari\n",
            "The 2nd element of tuple2 is  Mercedes\n",
            "The 3rd element of tuple2 is  Mustang\n",
            "The elements of tuple1 is  ('Ferrari', 'Mercedes', 'Mustang')\n",
            "The elements of tuple2 is  ('Kia', 'Honda', 'Yamaha')\n",
            "tuple1 elements are: \n",
            "FerrariMercedesMustangtuple2 elements are: \n",
            "KiaHondaYamaha"
          ]
        }
      ]
    }
  ]
}