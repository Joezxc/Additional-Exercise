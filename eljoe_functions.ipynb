{
  "nbformat": 4,
  "nbformat_minor": 0,
  "metadata": {
    "colab": {
      "provenance": [],
      "collapsed_sections": [],
      "authorship_tag": "ABX9TyPokyAbLVa0gdIbvA0AVhyb",
      "include_colab_link": true
    },
    "kernelspec": {
      "name": "python3",
      "display_name": "Python 3"
    },
    "language_info": {
      "name": "python"
    }
  },
  "cells": [
    {
      "cell_type": "markdown",
      "metadata": {
        "id": "view-in-github",
        "colab_type": "text"
      },
      "source": [
        "<a href=\"https://colab.research.google.com/github/Joezxc/Additional-Exercise/blob/main/eljoe_functions.ipynb\" target=\"_parent\"><img src=\"https://colab.research.google.com/assets/colab-badge.svg\" alt=\"Open In Colab\"/></a>"
      ]
    },
    {
      "cell_type": "code",
      "source": [
        "#The functions below represent the ordinal value of each character in the alphabet."
      ],
      "metadata": {
        "id": "2IlNTEYpF8-m"
      },
      "execution_count": null,
      "outputs": []
    },
    {
      "cell_type": "code",
      "source": [
        "print('The numbers below are the ordinal value of each character in the alphabet.')\n",
        "print(ord('A')), (ord('B')), (ord('C')), (ord('D')), (ord('E')), (ord('a')), (ord('b')), (ord('c')), (ord('d')), (ord('e')) \n",
        "print(ord('F')), (ord('G')), (ord('H')), (ord('I')), (ord('J')), (ord('f')), (ord('g')), (ord('h')), (ord('i')), (ord('j'))\n",
        "print(ord('K')), (ord('L')), (ord('M')), (ord('N')), (ord('O')), (ord('k')), (ord('l')), (ord('m')), (ord('n')), (ord('o'))\n",
        "print(ord('P')), (ord('Q')), (ord('R')), (ord('S')), (ord('T')), (ord('p')), (ord('q')), (ord('r')), (ord('s')), (ord('t'))\n",
        "print(ord('U')), (ord('V')), (ord('W')), (ord('X')), (ord('Y')), (ord('u')), (ord('v')), (ord('w')), (ord('x')), (ord('y'))\n",
        "print(ord('X')), (ord('Y')), (ord('Z')), (ord('A')), (ord('B')), (ord('x')), (ord('y')), (ord('z')), (ord('a')), (ord('b'))\n",
        "print('/n')"
      ],
      "metadata": {
        "colab": {
          "base_uri": "https://localhost:8080/"
        },
        "id": "MHpS8__U7R0U",
        "outputId": "04f387d8-21e9-4d70-d272-42ebce003ffe"
      },
      "execution_count": null,
      "outputs": [
        {
          "output_type": "stream",
          "name": "stdout",
          "text": [
            "The numbers below are the ordinal value of each character in the alphabet.\n",
            "65\n",
            "70\n",
            "75\n",
            "80\n",
            "85\n",
            "88\n",
            "/n\n"
          ]
        }
      ]
    },
    {
      "cell_type": "markdown",
      "source": [],
      "metadata": {
        "id": "QrW-YVMnXZUb"
      }
    },
    {
      "cell_type": "code",
      "source": [
        "#The functions below represent the equivalent character of each ordinal value."
      ],
      "metadata": {
        "id": "VmuRpQvQXhx6"
      },
      "execution_count": null,
      "outputs": []
    },
    {
      "cell_type": "code",
      "source": [
        "print('The letters below represent the character equivalent of the ordinal values of the charactes.')\n",
        "print(chr(65)), (chr(66)), (chr(67)), (chr(68)), (chr(69)), (chr(97)), (chr(98)), (chr(99)), (chr(100)),(chr(101))\n",
        "print(chr(70)), (chr(71)), (chr(72)), (chr(73)), (chr(74)), (chr(102)), (chr(103)), (chr(104)), (chr(105)), (chr(106))\n",
        "print(chr(75)), (chr(76)), (chr(77)), (chr(78)), (chr(79)), (chr(107)), (chr(108)), (chr(109)), (chr(110)), (chr(111))\n",
        "print(chr(80)), (chr(81)), (chr(82)), (chr(83)), (chr(84)), (chr(112)), (chr(113)), (chr(114)), (chr(115)), (chr(116))\n",
        "print(chr(85)), (chr(86)), (chr(87)), (chr(88)), (chr(89)), (chr(117)), (chr(118)), (chr(119)), (chr(120)), (chr(121))\n",
        "print(chr(88)), (chr(89)), (chr(90)), (chr(65)), (chr(66)), (chr(120)), (chr(121)), (chr(122)), (chr(97)), (chr(98))\n",
        "print('/n')"
      ],
      "metadata": {
        "colab": {
          "base_uri": "https://localhost:8080/"
        },
        "id": "mETG3J3nX363",
        "outputId": "0ee22d80-499f-4c77-c3a2-7242a02f224e"
      },
      "execution_count": null,
      "outputs": [
        {
          "output_type": "stream",
          "name": "stdout",
          "text": [
            "The letters below represent the character equivalent of the ordinal values of the charactes.\n",
            "A\n",
            "F\n",
            "K\n",
            "P\n",
            "U\n",
            "X\n",
            "/n\n"
          ]
        }
      ]
    },
    {
      "cell_type": "code",
      "source": [
        "#The functions below represent the binary equivalent of the ordinal values of the characters."
      ],
      "metadata": {
        "id": "uiHxLW7pgT3d"
      },
      "execution_count": null,
      "outputs": []
    },
    {
      "cell_type": "code",
      "source": [
        "print ('The given below represent the binary equivalent of the ordinal values of the characters.' )\n",
        "print(bin(65)), (bin(66)), (bin(67)), (bin(68)), (bin(69)), (bin(97)),  (bin(98)), (bin(99)), (bin(100)), (bin(101))\n",
        "print(bin(70)), (bin(71)), (bin(72)), (bin(73)), (bin(74)), (bin(102)), (bin(76)), (bin(104)), (bin(105)), (bin(106 ))\n",
        "print(bin(75)), (bin(76)), (bin(77)), (bin(78)), (bin(79)), (bin(107)), (bin(81)), (bin(109)), (bin(110)),  (bin(111))\n",
        "print(bin(80)), (bin(81)), (bin(82)), (bin(83)), (bin(84)), (bin(112)), (bin(86)), (bin(114)), (bin(115)), (bin(116))\n",
        "print(bin(85)), (bin(86)), (bin(87)), (bin(88)), (bin(89)), (bin(117)), (bin(91)), (bin(119)), (bin(120)), (bin(121))\n",
        "print(bin(88)), (bin(89)), (bin(90)), (bin(91)), (bin(92)), (bin(120)), (bin(94)), (bin(112)), (bin(97)), (bin(98))\n",
        "print('/n')"
      ],
      "metadata": {
        "colab": {
          "base_uri": "https://localhost:8080/"
        },
        "id": "IZhvSd_ph5TC",
        "outputId": "edc8cea4-0e52-47dc-8770-84d1c346ab95"
      },
      "execution_count": null,
      "outputs": [
        {
          "output_type": "stream",
          "name": "stdout",
          "text": [
            "The given below represent the binary equivalent of the ordinal values of the characters.\n",
            "0b1000001\n",
            "0b1000110\n",
            "0b1001011\n",
            "0b1010000\n",
            "0b1010101\n",
            "0b1011000\n",
            "/n\n"
          ]
        }
      ]
    }
  ]
}