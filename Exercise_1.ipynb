{
  "nbformat": 4,
  "nbformat_minor": 0,
  "metadata": {
    "colab": {
      "provenance": [],
      "collapsed_sections": [],
      "authorship_tag": "ABX9TyOcFv1coU0VbS8Ic0Lep/CO",
      "include_colab_link": true
    },
    "kernelspec": {
      "name": "python3",
      "display_name": "Python 3"
    },
    "language_info": {
      "name": "python"
    }
  },
  "cells": [
    {
      "cell_type": "markdown",
      "metadata": {
        "id": "view-in-github",
        "colab_type": "text"
      },
      "source": [
        "<a href=\"https://colab.research.google.com/github/Joezxc/Additional-Exercise/blob/main/Exercise_1.ipynb\" target=\"_parent\"><img src=\"https://colab.research.google.com/assets/colab-badge.svg\" alt=\"Open In Colab\"/></a>"
      ]
    },
    {
      "cell_type": "code",
      "execution_count": null,
      "metadata": {
        "colab": {
          "base_uri": "https://localhost:8080/"
        },
        "id": "d2uehAEmrU30",
        "outputId": "1588a0a5-6b52-46fd-f2ee-aee14cba7285"
      },
      "outputs": [
        {
          "output_type": "stream",
          "name": "stdout",
          "text": [
            "honesty is the policy\n"
          ]
        }
      ],
      "source": [
        "print('honesty is the policy')"
      ]
    },
    {
      "cell_type": "code",
      "source": [
        "#Honesty is the best policy"
      ],
      "metadata": {
        "id": "OVoVTHODrr6W"
      },
      "execution_count": null,
      "outputs": []
    },
    {
      "cell_type": "code",
      "source": [
        "print('Yesterday is history,')\n",
        "print('Tomorrow is mystery.')"
      ],
      "metadata": {
        "colab": {
          "base_uri": "https://localhost:8080/"
        },
        "id": "ciD5EeiSryTd",
        "outputId": "30eb952b-9321-4093-8e10-bdc3d2212a95"
      },
      "execution_count": null,
      "outputs": [
        {
          "output_type": "stream",
          "name": "stdout",
          "text": [
            "Yesterday is history,\n",
            "Tomorrow is mystery.\n"
          ]
        }
      ]
    },
    {
      "cell_type": "code",
      "source": [
        "print('I see the crystal raindrops fall,')\n",
        "print('And the beauty of it all,')\n",
        "print('Is when the sun comes shining through,')\n",
        "print('To make those rainbows in my mind,')\n",
        "print('When I think of you sometime,')\n",
        "print('And I wanna spend some time with you,')\n",
        "print('Just the two of us,')\n",
        "print('We can make it if we try,')\n",
        "print('Just the two of us.')\n",
        "print('You and I.')"
      ],
      "metadata": {
        "colab": {
          "base_uri": "https://localhost:8080/"
        },
        "id": "r3LODY6Qs0P_",
        "outputId": "9c8c0c5d-8544-424f-ae52-d2bc03f7a723"
      },
      "execution_count": null,
      "outputs": [
        {
          "output_type": "stream",
          "name": "stdout",
          "text": [
            "I see the crystal raindrops fall,\n",
            "And the beauty of it all,\n",
            "Is when the sun comes shining through,\n",
            "To make those rainbows in my mind,\n",
            "When I think of you sometime,\n",
            "And I wanna spend some time with you,\n",
            "Just the two of us,\n",
            "We can make it if we try,\n",
            "Just the two of us.\n",
            "You and I.\n"
          ]
        }
      ]
    },
    {
      "cell_type": "code",
      "source": [
        "import sys\n",
        "print(\"Phyton version\")\n",
        "print (sys.version)"
      ],
      "metadata": {
        "colab": {
          "base_uri": "https://localhost:8080/"
        },
        "id": "PiA1bfHlztiN",
        "outputId": "34b21ba1-39e7-4af8-b50e-b79ad6052c6c"
      },
      "execution_count": null,
      "outputs": [
        {
          "output_type": "stream",
          "name": "stdout",
          "text": [
            "Phyton version\n",
            "3.7.14 (default, Sep  8 2022, 00:06:44) \n",
            "[GCC 7.5.0]\n"
          ]
        }
      ]
    },
    {
      "cell_type": "code",
      "source": [
        "print(\"Version info.\")\n",
        "print (sys.version_info)"
      ],
      "metadata": {
        "colab": {
          "base_uri": "https://localhost:8080/"
        },
        "id": "y1o-k7s_z9oR",
        "outputId": "bce7f392-127e-4b36-8993-77a66c6e2966"
      },
      "execution_count": null,
      "outputs": [
        {
          "output_type": "stream",
          "name": "stdout",
          "text": [
            "Version info.\n",
            "sys.version_info(major=3, minor=7, micro=14, releaselevel='final', serial=0)\n"
          ]
        }
      ]
    },
    {
      "cell_type": "code",
      "source": [
        "from datetime import date\n",
        "\n",
        "today = date.today()\n",
        "print(\"Today's date:\", today)"
      ],
      "metadata": {
        "colab": {
          "base_uri": "https://localhost:8080/"
        },
        "id": "hB8M-yoc1DeL",
        "outputId": "90a3fcf0-3373-4325-9f77-1b629df4bad6"
      },
      "execution_count": null,
      "outputs": [
        {
          "output_type": "stream",
          "name": "stdout",
          "text": [
            "Today's date: 2022-09-29\n"
          ]
        }
      ]
    },
    {
      "cell_type": "code",
      "source": [
        "from datetime import date\n",
        "\n",
        "today = date.today()\n",
        "\n",
        "# Yy/dd/mm\n",
        "d1 = today.strftime(\"%Y/%d/%m\")\n",
        "print(\"d1 =\", d1)"
      ],
      "metadata": {
        "colab": {
          "base_uri": "https://localhost:8080/"
        },
        "id": "2DOAFaNk11Js",
        "outputId": "5dcf3c81-f27a-4595-ec98-937cda00bb93"
      },
      "execution_count": null,
      "outputs": [
        {
          "output_type": "stream",
          "name": "stdout",
          "text": [
            "d1 = 2022/29/09\n"
          ]
        }
      ]
    },
    {
      "cell_type": "code",
      "source": [
        "# Textual month, day and year\n",
        "d2 = today.strftime(\"%B %d %Y\")\n",
        "print(\"d2 =\" , d2)"
      ],
      "metadata": {
        "colab": {
          "base_uri": "https://localhost:8080/"
        },
        "id": "fAqQZ7oF3ZH5",
        "outputId": "6d9e7cb0-1b93-4876-b163-395a484f0a5f"
      },
      "execution_count": null,
      "outputs": [
        {
          "output_type": "stream",
          "name": "stdout",
          "text": [
            "d2 = September 29 2022\n"
          ]
        }
      ]
    },
    {
      "cell_type": "code",
      "source": [
        "# mm/dd/YY\n",
        "d3 = today.strftime(\"%m/%d/%Y\")\n",
        "print(\"d3 =\" , d3)"
      ],
      "metadata": {
        "colab": {
          "base_uri": "https://localhost:8080/"
        },
        "id": "mN4JaWXX3x0t",
        "outputId": "5a943a87-9550-48b5-98ae-624300ec4b9e"
      },
      "execution_count": null,
      "outputs": [
        {
          "output_type": "stream",
          "name": "stdout",
          "text": [
            "d3 = 09/29/2022\n"
          ]
        }
      ]
    },
    {
      "cell_type": "code",
      "source": [
        "a, b = 100, 200\n",
        "print('the value of a is 100')\n",
        "print(a) # 100\n",
        "print('the value of b is 200')\n",
        "print(b) # 200\n"
      ],
      "metadata": {
        "colab": {
          "base_uri": "https://localhost:8080/"
        },
        "id": "Rolv6GpmHK_a",
        "outputId": "380ccf24-524e-4cf7-bc4e-2bfd3c0c6445"
      },
      "execution_count": null,
      "outputs": [
        {
          "output_type": "stream",
          "name": "stdout",
          "text": [
            "the value of a is 100\n",
            "100\n",
            "the value of b is 200\n",
            "200\n"
          ]
        }
      ]
    },
    {
      "cell_type": "code",
      "source": [
        "name = input(\"My name is\")\n",
        "print(name)"
      ],
      "metadata": {
        "id": "L9fsr-p4KKdt"
      },
      "execution_count": null,
      "outputs": []
    },
    {
      "cell_type": "code",
      "source": [
        "length = 5\n",
        "breadth = 2\n",
        "area = 10\n",
        "perimeter = 14"
      ],
      "metadata": {
        "id": "fa6DqcguK_he"
      },
      "execution_count": null,
      "outputs": []
    },
    {
      "cell_type": "code",
      "source": [
        "r = float(input(\"input the radius of the circle\"))\n",
        "print (\"The area of the circle with radius\") + str(r) + \" i\n",
        "s:\" + str(3.14* r**2))"
      ],
      "metadata": {
        "id": "P34YuyPqLgvI"
      },
      "execution_count": null,
      "outputs": []
    },
    {
      "cell_type": "code",
      "source": [
        "area = int(input(\"input the radius of the rectangle\")\n",
        "print (\"The area of the rectangle with radius\") + str(r) + \" i\n",
        "s\" + str(*r**2))"
      ],
      "metadata": {
        "id": "HlXOnjh9N2Uu"
      },
      "execution_count": null,
      "outputs": []
    }
  ]
}