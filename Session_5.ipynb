{
  "nbformat": 4,
  "nbformat_minor": 0,
  "metadata": {
    "colab": {
      "provenance": [],
      "authorship_tag": "ABX9TyNuH8ONnllI9jCYWfWBtFxu",
      "include_colab_link": true
    },
    "kernelspec": {
      "name": "python3",
      "display_name": "Python 3"
    },
    "language_info": {
      "name": "python"
    }
  },
  "cells": [
    {
      "cell_type": "markdown",
      "metadata": {
        "id": "view-in-github",
        "colab_type": "text"
      },
      "source": [
        "<a href=\"https://colab.research.google.com/github/Joezxc/Additional-Exercise/blob/main/Session_5.ipynb\" target=\"_parent\"><img src=\"https://colab.research.google.com/assets/colab-badge.svg\" alt=\"Open In Colab\"/></a>"
      ]
    },
    {
      "cell_type": "code",
      "execution_count": null,
      "metadata": {
        "colab": {
          "base_uri": "https://localhost:8080/"
        },
        "id": "wRvAFJOnzGFb",
        "outputId": "cedefa8e-b893-40aa-d4c1-ca33906b3a38"
      },
      "outputs": [
        {
          "output_type": "stream",
          "name": "stdout",
          "text": [
            "Today's date: 2022-10-05\n",
            "d1 = 10/05/2022\n",
            "d2 = October 05 2022\n",
            "d3 = 10/05/2022\n"
          ]
        }
      ],
      "source": [
        "from datetime import date\n",
        "\n",
        "today = date.today()\n",
        "print(\"Today's date:\", today)\n",
        "\n",
        "from datetime import date\n",
        "\n",
        "today = date.today()\n",
        "\n",
        "# mm/dd/Yy\n",
        "d1 = today.strftime(\"%m/%d/%Y\")\n",
        "print(\"d1 =\", d1)\n",
        "\n",
        "# Textual month, day and year\n",
        "d2 = today.strftime(\"%B %d %Y\")\n",
        "print(\"d2 =\" , d2)\n",
        "\n",
        "# mm/dd/YY\n",
        "d3 = today.strftime(\"%m/%d/%Y\")\n",
        "print(\"d3 =\" , d3)"
      ]
    },
    {
      "cell_type": "code",
      "source": [
        "radius = 5\n",
        "pi = 3.14\n",
        "area = pi *radius**2 \n",
        "print(area)"
      ],
      "metadata": {
        "colab": {
          "base_uri": "https://localhost:8080/"
        },
        "id": "FlFd7Sg63ILm",
        "outputId": "c72a3278-e50a-48c4-8bc2-47e1577307c8"
      },
      "execution_count": null,
      "outputs": [
        {
          "output_type": "stream",
          "name": "stdout",
          "text": [
            "78.5\n"
          ]
        }
      ]
    },
    {
      "cell_type": "code",
      "source": [
        "PI = 3.142\n",
        "r = float (input(\"Input the radius of circle : \"))\n",
        "print (\"The area of circle with radius \" + str(r) + \"i s:\" + str (pi *r**2))"
      ],
      "metadata": {
        "id": "726qRwaX3Nq1"
      },
      "execution_count": null,
      "outputs": []
    },
    {
      "cell_type": "code",
      "source": [
        "first_name = \"Eljoe\"\n",
        "last_name = \"Narito\"\n",
        "full_name = first_name + \" \" + last_name\n",
        "print(first_name * 3)"
      ],
      "metadata": {
        "id": "vfiHsxnU3b6x"
      },
      "execution_count": null,
      "outputs": []
    }
  ]
}