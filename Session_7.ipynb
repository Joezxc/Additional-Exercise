{
  "cells": [
    {
      "cell_type": "markdown",
      "metadata": {
        "id": "view-in-github",
        "colab_type": "text"
      },
      "source": [
        "<a href=\"https://colab.research.google.com/github/Joezxc/Additional-Exercise/blob/main/Session_7.ipynb\" target=\"_parent\"><img src=\"https://colab.research.google.com/assets/colab-badge.svg\" alt=\"Open In Colab\"/></a>"
      ]
    },
    {
      "cell_type": "code",
      "execution_count": null,
      "metadata": {
        "colab": {
          "base_uri": "https://localhost:8080/"
        },
        "id": "TaUaqxyO04i3",
        "outputId": "4f8e89df-4b7a-4d2f-d463-d5692afccda0"
      },
      "outputs": [
        {
          "name": "stdout",
          "output_type": "stream",
          "text": [
            "6  is positive\n"
          ]
        }
      ],
      "source": [
        "#Write a program to print a number only if it is positive.\n",
        "a=6\n",
        "if a>0:\n",
        "  print(a,' is positive')"
      ]
    },
    {
      "cell_type": "code",
      "execution_count": null,
      "metadata": {
        "id": "8cr_oGju2LTX"
      },
      "outputs": [],
      "source": [
        "#Write a program to print a number only if it is positive.\n",
        "b=-6\n",
        "if b>0:\n",
        "   print(b, 'is positive')"
      ]
    },
    {
      "cell_type": "code",
      "execution_count": null,
      "metadata": {
        "colab": {
          "base_uri": "https://localhost:8080/"
        },
        "id": "1nkLqim32mAe",
        "outputId": "e989f40f-6ad5-4454-eef1-1592ae2ff3b2"
      },
      "outputs": [
        {
          "name": "stdout",
          "output_type": "stream",
          "text": [
            "Enter 1st Number: \n",
            "1\n",
            "Enter 2nd Number: \n",
            "2\n",
            "1 is the first number and it is smaller than the second number.\n"
          ]
        }
      ],
      "source": [
        "#Take the two numbers from the user and print the first number only if it is smaller than the second number.\n",
        "print('Enter 1st Number: ')\n",
        "a=int(input())\n",
        "print('Enter 2nd Number: ')\n",
        "b=int(input())\n",
        "\n",
        "if a<b:\n",
        "  print(a,'is the first number and it is smaller than the second number.')"
      ]
    },
    {
      "cell_type": "code",
      "execution_count": null,
      "metadata": {
        "colab": {
          "base_uri": "https://localhost:8080/",
          "height": 134
        },
        "id": "_tQ9KrLQ4BqO",
        "outputId": "fb3965eb-4c7d-4abc-a952-4d0cc3f850ec"
      },
      "outputs": [
        {
          "ename": "SyntaxError",
          "evalue": "ignored",
          "output_type": "error",
          "traceback": [
            "\u001b[0;36m  File \u001b[0;32m\"<ipython-input-41-ea680c7add37>\"\u001b[0;36m, line \u001b[0;32m3\u001b[0m\n\u001b[0;31m    if alien_color == 'green ':\u001b[0m\n\u001b[0m                              ^\u001b[0m\n\u001b[0;31mSyntaxError\u001b[0m\u001b[0;31m:\u001b[0m invalid syntax\n"
          ]
        }
      ],
      "source": [
        "alien_color = str(input(\"Which alien color did you used to shoot the aliens: \")\n",
        "\n",
        "  if alien_color == 'green':\n",
        "    print('you just earned 2 points')\n",
        "\n",
        "  elif alien_color == 'yellow':\n",
        "   print(' just earned 4 points')\n",
        "\n",
        "  elif alien_color == 'red':\n",
        "   print(' just earned 15 points')\n",
        "\n",
        "  else:\n",
        "    print('you earned nothing')"
      ]
    },
    {
      "cell_type": "code",
      "execution_count": null,
      "metadata": {
        "colab": {
          "base_uri": "https://localhost:8080/"
        },
        "id": "y6DEfBtT74N9",
        "outputId": "d6d98aea-e1c0-4c2a-f2c5-bab37674e5b2"
      },
      "outputs": [
        {
          "name": "stdout",
          "output_type": "stream",
          "text": [
            "Please enter the first number: 4\n",
            "Please enter the second number: 5\n",
            "4\n"
          ]
        }
      ],
      "source": [
        "x = int(input('Please enter the first number: '))\n",
        "y = int(input('Please enter the second number: '))\n",
        "\n",
        "if x<y:\n",
        "  print(x)\n",
        "  \n",
        "else:\n",
        "  print('Error!')"
      ]
    },
    {
      "cell_type": "code",
      "execution_count": null,
      "metadata": {
        "colab": {
          "base_uri": "https://localhost:8080/"
        },
        "id": "PjLHNqg7_2ML",
        "outputId": "e0c33af6-6b59-4229-b452-f526b79395b7"
      },
      "outputs": [
        {
          "name": "stdout",
          "output_type": "stream",
          "text": [
            "Write the first number) 1\n",
            "Write the second number) 2\n",
            "1 is the smaller number\n"
          ]
        }
      ],
      "source": [
        "\n",
        "a = int(input('Write the first number) '))\n",
        "b = int(input('Write the second number) '))\n",
        "if a<b:\n",
        "  print(a,'is the smaller number')\n",
        "\n",
        "elif a>b:\n",
        "   print(y,'is the bigger number')\n",
        "\n",
        "else:\n",
        "   print('both numbers are equal')"
      ]
    },
    {
      "cell_type": "code",
      "execution_count": null,
      "metadata": {
        "colab": {
          "background_save": true,
          "base_uri": "https://localhost:8080/"
        },
        "id": "nLx7jtZUCyb2",
        "outputId": "fd140b9a-5f2f-4c43-f7f3-c057ee807708"
      },
      "outputs": [
        {
          "name": "stdout",
          "output_type": "stream",
          "text": [
            "Select country: US/Australia\n"
          ]
        }
      ],
      "source": [
        "print('Select country: US/Australia')\n",
        "country=str(input())\n",
        "print('Enter the number of shipments')\n",
        "shipment=int(input())\n",
        "\n",
        "if country==\"US\":\n",
        "  if shipment<=50:\n",
        "    print('Shipping cost is 50$')\n",
        "  elif shipment>50:\n",
        "    print('Shipment cost is 25$')\n",
        "  else:\n",
        "    print('Please contact customer support.')\n",
        "else:\n",
        "  if country==\"Australia\":\n",
        "    if shipment<=150:\n",
        "      print('Shipping cost is $100')    \n",
        "    elif shipment>150:\n",
        "      print('Shipment cost is $15')\n",
        "    else:\n",
        "      print('Please contact customer support.')  "
      ]
    },
    {
      "cell_type": "code",
      "execution_count": null,
      "metadata": {
        "id": "3uVYuWPmFckN"
      },
      "outputs": [],
      "source": [
        "#Create a list\n",
        "flowers=['Sunflower', 'Sampaguita', 'Gumamela']\n",
        "#print list\n",
        "print(flowers)\n",
        "\n",
        "#Access elements of the list\n",
        "print(flowers[0])\n",
        "print(flowers[1])\n",
        "print(flowers[2])\n",
        "\n",
        "#replace the 1sr element of the list\n",
        "flowers[0]='Rose'\n",
        "print(flowers)\n",
        "\n",
        "#Add an elements in the list use the append() function\n",
        "flowers.append('Jaismine')\n",
        "print(flowers)\n",
        "\n",
        "#insert elements in the list use the insert() function\n",
        "flowers.insert(0,'Lily')\n",
        "flowers.insert(3,'Lotus')\n",
        "print(flowers)\n",
        "\n",
        "#Remove elements in the list using value\n",
        "print(flowers)\n",
        "flowers.remove('Gumamela')\n",
        "print(flowers)\n",
        "\n",
        "#Remove last element in a list using pop() function\n",
        "popped=flowers.pop()\n",
        "print(flowers)\n",
        "\n",
        "#print the popped element\n",
        "print(popped)\n",
        "\n",
        "#sort list alphabetically\n",
        "print(flowers)\n",
        "flowers.sort()\n",
        "print(flowers)"
      ]
    },
    {
      "cell_type": "code",
      "execution_count": null,
      "metadata": {
        "id": "F3SFO_trR_U8",
        "outputId": "e7d5576b-5af7-4f0d-b255-c48432b81540",
        "colab": {
          "base_uri": "https://localhost:8080/",
          "height": 130
        }
      },
      "outputs": [
        {
          "output_type": "error",
          "ename": "SyntaxError",
          "evalue": "ignored",
          "traceback": [
            "\u001b[0;36m  File \u001b[0;32m\"<ipython-input-1-c2730f2fe864>\"\u001b[0;36m, line \u001b[0;32m3\u001b[0m\n\u001b[0;31m    'integers': ' a branch of mathematical programming'\u001b[0m\n\u001b[0m              ^\u001b[0m\n\u001b[0;31mSyntaxError\u001b[0m\u001b[0;31m:\u001b[0m invalid syntax\n"
          ]
        }
      ],
      "source": [
        "glossary = {\n",
        "    'strings': 'executables or compiled computer program files that will perform a particular function'\n",
        "    'integers': ' a branch of mathematical programming'\n",
        "    'float': 'a fundamental data type built into the compiler thats used to define numeric values with floating decimal points'\n",
        "    'function': 'block of code that performs a task'\n",
        "    'lists': 'lists are used to store multiple objects together'\n",
        "\n",
        "}\n",
        "print('strings :')\n",
        "print(glossary['strings'] + '\\n')\n",
        "print('integers :')\n",
        "print(glossary['integers']\n",
        "print('float :')\n",
        "print(glossary['float'] + '\\n')\n",
        "print('function :')\n",
        "print(glossary['function']\n",
        "print('lists :')\n",
        "print(glossary['lists'] + '\\n')\n",
        "\n",
        "      \n",
        "\n",
        "\n",
        "\n",
        "\n",
        "\n",
        "\n"
      ]
    }
  ],
  "metadata": {
    "colab": {
      "provenance": [],
      "authorship_tag": "ABX9TyPaPPklSZMxO7baf2AMZW5B",
      "include_colab_link": true
    },
    "kernelspec": {
      "display_name": "Python 3",
      "name": "python3"
    },
    "language_info": {
      "name": "python"
    }
  },
  "nbformat": 4,
  "nbformat_minor": 0
}