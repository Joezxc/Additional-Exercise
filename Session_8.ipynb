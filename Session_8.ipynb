{
  "nbformat": 4,
  "nbformat_minor": 0,
  "metadata": {
    "colab": {
      "provenance": [],
      "authorship_tag": "ABX9TyON5hxQ6dOm07UBvxM5kqPd",
      "include_colab_link": true
    },
    "kernelspec": {
      "name": "python3",
      "display_name": "Python 3"
    },
    "language_info": {
      "name": "python"
    }
  },
  "cells": [
    {
      "cell_type": "markdown",
      "metadata": {
        "id": "view-in-github",
        "colab_type": "text"
      },
      "source": [
        "<a href=\"https://colab.research.google.com/github/Joezxc/Additional-Exercise/blob/main/Session_8.ipynb\" target=\"_parent\"><img src=\"https://colab.research.google.com/assets/colab-badge.svg\" alt=\"Open In Colab\"/></a>"
      ]
    },
    {
      "cell_type": "code",
      "execution_count": null,
      "metadata": {
        "colab": {
          "base_uri": "https://localhost:8080/"
        },
        "id": "-RirmFjU3Jxe",
        "outputId": "8f433589-1b95-4c0f-a5ba-0fba7cf60f86"
      },
      "outputs": [
        {
          "output_type": "stream",
          "name": "stdout",
          "text": [
            "1\n",
            "2\n",
            "3\n",
            "4\n",
            "5\n",
            "6\n",
            "7\n",
            "8\n",
            "9\n",
            "10\n"
          ]
        }
      ],
      "source": [
        "# Using loop\n",
        "count=1\n",
        "while count<=10:\n",
        " print(count)\n",
        " count=count+1"
      ]
    },
    {
      "cell_type": "code",
      "source": [],
      "metadata": {
        "id": "fNMsyHgQdmHj"
      },
      "execution_count": null,
      "outputs": []
    },
    {
      "cell_type": "code",
      "source": [
        "# City name using loop\n",
        "\n",
        "city_name='\\nPlease enter the name the planet that you would love to visit:'\n",
        "city_name+='\\nEnter quit when you are finished'\n",
        "while True:\n",
        "  city=input(city_name)\n",
        "\n",
        "  if city=='quit':\n",
        "     break\n",
        "  else:\n",
        "    print('I would love to ride in rocket to', city.title(),'!')"
      ],
      "metadata": {
        "id": "xEHOzLYN4tqI"
      },
      "execution_count": null,
      "outputs": []
    },
    {
      "cell_type": "markdown",
      "source": [],
      "metadata": {
        "id": "QNVinUQQPy84"
      }
    },
    {
      "cell_type": "code",
      "source": [
        "# While loop\n",
        "count=0\n",
        "while count<50:\n",
        "  count+=1\n",
        "  if count%2==0:\n",
        "    continue\n",
        "  print(count)\n",
        "else:\n",
        "  print('Loop terminated as number exceeds 50')"
      ],
      "metadata": {
        "colab": {
          "base_uri": "https://localhost:8080/"
        },
        "id": "oULPrf9X7Dgc",
        "outputId": "12be4210-9371-4619-8c6f-699a76cc180c"
      },
      "execution_count": null,
      "outputs": [
        {
          "output_type": "stream",
          "name": "stdout",
          "text": [
            "1\n",
            "3\n",
            "5\n",
            "7\n",
            "9\n",
            "11\n",
            "13\n",
            "15\n",
            "17\n",
            "19\n",
            "21\n",
            "23\n",
            "25\n",
            "27\n",
            "29\n",
            "31\n",
            "33\n",
            "35\n",
            "37\n",
            "39\n",
            "41\n",
            "43\n",
            "45\n",
            "47\n",
            "49\n",
            "Loop terminated as number exceeds 50\n"
          ]
        }
      ]
    },
    {
      "cell_type": "code",
      "source": [
        "dishes = [\"Sisig\", \"Kare-kare\", \"Dinuguan\"]\n",
        "\n",
        "for dishes in dishes:\n",
        "\n",
        "        print(dishes)"
      ],
      "metadata": {
        "colab": {
          "base_uri": "https://localhost:8080/"
        },
        "id": "LuMZz65sAenx",
        "outputId": "00e78163-6fc1-47cb-a6fc-0a31798956a4"
      },
      "execution_count": null,
      "outputs": [
        {
          "output_type": "stream",
          "name": "stdout",
          "text": [
            "Sisig\n",
            "Kare-kare\n",
            "Dinuguan\n"
          ]
        }
      ]
    },
    {
      "cell_type": "code",
      "source": [
        "flowers=['sampaguita','sunflower','gumamela']\n",
        "for flower in flowers:\n",
        "  print(flowers)"
      ],
      "metadata": {
        "colab": {
          "base_uri": "https://localhost:8080/"
        },
        "id": "Nywtxno-BIro",
        "outputId": "91dca492-201a-46e6-ecfd-fd46fb7477ab"
      },
      "execution_count": null,
      "outputs": [
        {
          "output_type": "stream",
          "name": "stdout",
          "text": [
            "['sampaguita', 'sunflower', 'gumamela']\n",
            "['sampaguita', 'sunflower', 'gumamela']\n",
            "['sampaguita', 'sunflower', 'gumamela']\n"
          ]
        }
      ]
    },
    {
      "cell_type": "code",
      "source": [
        "student = {'name': 'Joezilla', 'id': 15, 'course': 'BSC CC' }\n",
        "print('Display key-value pairs')\n",
        "for key, value in student.items():\n",
        "  print(f\"\\nKey: {key}\")\n",
        "  print(f\"Value: {value}\")\n",
        "\n",
        "  print('\\nDisplay only keys')\n",
        "  for key in student.keys():\n",
        "    print(key)\n",
        " \n",
        "  print('\\nDisplay only values')\n",
        "  for value in student.values():\n",
        "    print(value)"
      ],
      "metadata": {
        "colab": {
          "base_uri": "https://localhost:8080/"
        },
        "id": "_LZ4ZI4zCzIR",
        "outputId": "42cd35ba-44bc-468f-854c-f0cba073b860"
      },
      "execution_count": null,
      "outputs": [
        {
          "output_type": "stream",
          "name": "stdout",
          "text": [
            "Display key-value pairs\n",
            "\n",
            "Key: name\n",
            "Value: Joezilla\n",
            "\n",
            "Display only keys\n",
            "name\n",
            "id\n",
            "course\n",
            "\n",
            "Display only values\n",
            "Joezilla\n",
            "15\n",
            "BSC CC\n",
            "\n",
            "Key: id\n",
            "Value: 15\n",
            "\n",
            "Display only keys\n",
            "name\n",
            "id\n",
            "course\n",
            "\n",
            "Display only values\n",
            "Joezilla\n",
            "15\n",
            "BSC CC\n",
            "\n",
            "Key: course\n",
            "Value: BSC CC\n",
            "\n",
            "Display only keys\n",
            "name\n",
            "id\n",
            "course\n",
            "\n",
            "Display only values\n",
            "Joezilla\n",
            "15\n",
            "BSC CC\n"
          ]
        }
      ]
    },
    {
      "cell_type": "code",
      "source": [
        "student1 = {'name': 'alpha', 'id':15, 'course':'BSC CC'}\n",
        "student2 = {'name': 'beta', 'id':20, 'course':'BSC CC'}\n",
        "student3 = {'name': 'gamma', 'id':25, 'course':'BSC CC'}\n",
        "student4 = {'name': 'delta', 'id':30, 'course':'BSC CC'}\n",
        "student = [student1,student2,student3,student4]\n",
        "for std in student:\n",
        "  print(std)"
      ],
      "metadata": {
        "colab": {
          "base_uri": "https://localhost:8080/"
        },
        "id": "fQG-uto7HU86",
        "outputId": "c832a0f3-5295-4410-bef9-b5eb583de773"
      },
      "execution_count": null,
      "outputs": [
        {
          "output_type": "stream",
          "name": "stdout",
          "text": [
            "{'name': 'alpha', 'id': 15, 'course': 'BSC CC'}\n",
            "{'name': 'beta', 'id': 20, 'course': 'BSC CC'}\n",
            "{'name': 'gamma', 'id': 25, 'course': 'BSC CC'}\n",
            "{'name': 'delta', 'id': 30, 'course': 'BSC CC'}\n"
          ]
        }
      ]
    },
    {
      "cell_type": "code",
      "source": [
        "sandwich_orders = ['Chicken', 'Tuna', 'Egg', 'Ham']\n",
        "finished_sandwiches = []\n",
        "\n",
        "while sandwich_orders:\n",
        "  current_sandwich = sandwich_orders.pop()\n",
        "  print(\"I made your \" + current_sandwich + \" sandwich.\")\n",
        "  finished_sandwiches.append(current_sandwich)\n",
        "\n",
        "print(\"\\n\")\n",
        "print('Sandwich Orders:')\n",
        "for sandwich in finished_sandwiches:\n",
        "  print(sandwich,'Sandwich')"
      ],
      "metadata": {
        "colab": {
          "base_uri": "https://localhost:8080/"
        },
        "id": "ti90u-BSI0nv",
        "outputId": "26b410cd-85fa-4d70-e6fc-1394dbfce70b"
      },
      "execution_count": null,
      "outputs": [
        {
          "output_type": "stream",
          "name": "stdout",
          "text": [
            "I made your Ham sandwich.\n",
            "I made your Egg sandwich.\n",
            "I made your Tuna sandwich.\n",
            "I made your Chicken sandwich.\n",
            "\n",
            "\n",
            "Sandwich Orders:\n",
            "Ham Sandwich\n",
            "Egg Sandwich\n",
            "Tuna Sandwich\n",
            "Chicken Sandwich\n"
          ]
        }
      ]
    },
    {
      "cell_type": "code",
      "source": [
        "def greet_user(username):\n",
        "  print(f\"Ayo, its ur boi {username.title()}!\")\n",
        "greet_user('Eljoe')"
      ],
      "metadata": {
        "colab": {
          "base_uri": "https://localhost:8080/"
        },
        "id": "ywTAr-EfKeYz",
        "outputId": "d1de54b9-03d8-4e05-9c28-2d204df50660"
      },
      "execution_count": null,
      "outputs": [
        {
          "output_type": "stream",
          "name": "stdout",
          "text": [
            "Ayo, its ur boi Eljoe!\n"
          ]
        }
      ]
    },
    {
      "cell_type": "code",
      "source": [
        "# Chapter 7 ex 2\n",
        "def favorite_book(book):\n",
        "  print(f\"Hello, my favorite book is {book.title()}\")\n",
        "favorite_book('Wimpy Kid')"
      ],
      "metadata": {
        "colab": {
          "base_uri": "https://localhost:8080/"
        },
        "id": "5g4DzQu_d98d",
        "outputId": "0998bdee-264b-4ecd-8446-4f5c55039681"
      },
      "execution_count": null,
      "outputs": [
        {
          "output_type": "stream",
          "name": "stdout",
          "text": [
            "Hello, my favorite book is Wimpy Kid\n"
          ]
        }
      ]
    }
  ]
}